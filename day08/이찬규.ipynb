{
 "cells": [
  {
   "cell_type": "markdown",
   "metadata": {},
   "source": [
    "## 1번 문제"
   ]
  },
  {
   "cell_type": "code",
   "execution_count": 3,
   "metadata": {},
   "outputs": [
    {
     "name": "stdout",
     "output_type": "stream",
     "text": [
      "원의 크기는78.5398\n"
     ]
    }
   ],
   "source": [
    "# 1번 문제\n",
    "import math\n",
    "\n",
    "PI = 3.141592\n",
    "radius = int(input('반지름 입력(정수) > '))\n",
    "\n",
    "print(f'원의 크기는{radius * radius * PI}')"
   ]
  },
  {
   "cell_type": "markdown",
   "metadata": {},
   "source": [
    "## 2번 문제"
   ]
  },
  {
   "cell_type": "code",
   "execution_count": 80,
   "metadata": {},
   "outputs": [
    {
     "name": "stdout",
     "output_type": "stream",
     "text": [
      "태양을 제외한 태양계의 행성을 입력\n",
      "태양계에 존재하지 않는 행성입니다.\n"
     ]
    }
   ],
   "source": [
    "# 2번 문제\n",
    "dict_sola = {'Mercury':'수성', 'Venus':'금성','Earth':'지구','Mars':'화성',\n",
    "             'Jupiter':'목성','Satum':'토성','Uranus':'천왕성','Neptune':'명왕성'}\n",
    "\n",
    "print('태양을 제외한 태양계의 행성을 입력' )\n",
    "\n",
    "try:\n",
    "    print(dict_sola[input('입력은 오직 첫글자만 영어 대문자로 Ex) Mercury) > ')])\n",
    "except:\n",
    "    print('태양계에 존재하지 않는 행성입니다.')"
   ]
  },
  {
   "cell_type": "markdown",
   "metadata": {},
   "source": [
    "## 3번 문제"
   ]
  },
  {
   "cell_type": "code",
   "execution_count": 122,
   "metadata": {},
   "outputs": [
    {
     "name": "stdout",
     "output_type": "stream",
     "text": [
      "I'm going to leave the door open = 7\n",
      "i'm GOING to LEAVE the DOOR open "
     ]
    }
   ],
   "source": [
    "# 3번 문제\n",
    "string_1 = input('변경을 원하는 문장을 입력해 주세요 > ')\n",
    "string_2 = string_1.split(' ')\n",
    "print(string_1,'= ' f'{len(string_2)}')\n",
    "\n",
    "# print(string_2[0], string_2[1].upper(), string_2[2], string_2[3].upper(), \n",
    "#       string_2[4], string_2[5].upper(), string_2[6])\n",
    "\n",
    "for i in range(0, len(string_2)):\n",
    "    if i % 2 == 0:\n",
    "        print(string_2[i].lower(),end=' ')\n",
    "    elif i % 2 == 1:\n",
    "        print(string_2[i].upper(),end=' ')\n",
    "    else:\n",
    "        pass\n"
   ]
  },
  {
   "cell_type": "code",
   "execution_count": null,
   "metadata": {},
   "outputs": [],
   "source": []
  },
  {
   "cell_type": "markdown",
   "metadata": {},
   "source": [
    "## 4번 문제"
   ]
  },
  {
   "cell_type": "code",
   "execution_count": 110,
   "metadata": {},
   "outputs": [
    {
     "data": {
      "text/plain": [
       "<function __main__.get_url()>"
      ]
     },
     "execution_count": 110,
     "metadata": {},
     "output_type": "execute_result"
    }
   ],
   "source": [
    "# 4번 문제\n",
    "x = input('찾으시는 웹사이트 주소는?')\n",
    "def get_url():\n",
    "    print('www.',x,'.com')\n",
    "get_url"
   ]
  },
  {
   "cell_type": "markdown",
   "metadata": {},
   "source": [
    "## 5번 문제"
   ]
  },
  {
   "cell_type": "code",
   "execution_count": 57,
   "metadata": {},
   "outputs": [
    {
     "name": "stdout",
     "output_type": "stream",
     "text": [
      "구구단 프로그램, 원하는 단을 입력해주세요! > \n",
      "2-->\n",
      "2 4 6 8 10 12 14 16 18 "
     ]
    }
   ],
   "source": [
    "# 5번 문제\n",
    "x = int(input(print('구구단 프로그램, 원하는 단을 입력해주세요! > ')))\n",
    "print(f'{x}-->')\n",
    "for y in range(1, 9+1):\n",
    "    print(x*y, end = ' ')\n",
    "\n",
    "# if x == str:\n",
    "#     print('정수가 아닙니다.')"
   ]
  }
 ],
 "metadata": {
  "kernelspec": {
   "display_name": "Python 3",
   "language": "python",
   "name": "python3"
  },
  "language_info": {
   "codemirror_mode": {
    "name": "ipython",
    "version": 3
   },
   "file_extension": ".py",
   "mimetype": "text/x-python",
   "name": "python",
   "nbconvert_exporter": "python",
   "pygments_lexer": "ipython3",
   "version": "3.11.5"
  }
 },
 "nbformat": 4,
 "nbformat_minor": 2
}
