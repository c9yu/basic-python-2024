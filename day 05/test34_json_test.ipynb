{
 "cells": [
  {
   "cell_type": "markdown",
   "metadata": {},
   "source": [
    "## JSON input/output\n",
    "json 읽고 쓰기\n",
    "\n",
    "### json 포맷"
   ]
  },
  {
   "cell_type": "code",
   "execution_count": 2,
   "metadata": {},
   "outputs": [],
   "source": [
    "# file : test33_folium_again.ipynb\n",
    "# date : 20240202\n",
    "# desc : json 예제\n",
    "\n",
    "json_ex = '{\"name\" : \"성명건\", \"age\" : 47}' # json 포맷\n",
    "# \"\", ''를 같이 사용하는 이유는 하나로만 작성했을 때 발생하는 문법적 오류를 막기 위함이다.\n",
    "\n"
   ]
  },
  {
   "cell_type": "markdown",
   "metadata": {},
   "source": [
    "### JSON 읽기\n",
    "json 모듈 가져오기"
   ]
  },
  {
   "cell_type": "code",
   "execution_count": 3,
   "metadata": {},
   "outputs": [],
   "source": [
    "import json"
   ]
  },
  {
   "cell_type": "code",
   "execution_count": 9,
   "metadata": {},
   "outputs": [
    {
     "name": "stdout",
     "output_type": "stream",
     "text": [
      "{\n",
      "\t\"ionic\": {\n",
      "\t\t\"price\": 20000000,\n",
      "\t\t\"year\": \"2019\",\n",
      "\t\t\"auto\": true\n",
      "\t},\n",
      "\t\"genesis\": {\n",
      "\t\t\"price\": 80000000,\n",
      "\t\t\"year\": \"2022\",\n",
      "\t\t\"auto\": true\n",
      "\t},\n",
      "\t\"ferrari\": {\n",
      "\t\t\"price\": 150000000,\n",
      "\t\t\"year\": \"2020\",\n",
      "\t\t\"auto\": false\n",
      "\t}\n",
      "}\n"
     ]
    }
   ],
   "source": [
    "file = open('./car.json', mode = 'r', encoding='utf-8') # ./  하는 순간 내 폴더에 있는 파일이 다 나타남 (jupyter notebook 효과)\n",
    "                                                        # ../ 하면 부모 폴더에 있는 파일이 다 나타남\n",
    "data = json.load(file) # json 파일로 변환\n",
    "\n",
    "file.close()\n",
    "\n",
    "print(json.dumps(data,indent='\\t')) # 문자열로 변환, \\t : 문자열 사이에 tab 간격을 추가"
   ]
  },
  {
   "cell_type": "code",
   "execution_count": null,
   "metadata": {},
   "outputs": [],
   "source": []
  }
 ],
 "metadata": {
  "kernelspec": {
   "display_name": "Python 3",
   "language": "python",
   "name": "python3"
  },
  "language_info": {
   "codemirror_mode": {
    "name": "ipython",
    "version": 3
   },
   "file_extension": ".py",
   "mimetype": "text/x-python",
   "name": "python",
   "nbconvert_exporter": "python",
   "pygments_lexer": "ipython3",
   "version": "3.11.5"
  }
 },
 "nbformat": 4,
 "nbformat_minor": 2
}
