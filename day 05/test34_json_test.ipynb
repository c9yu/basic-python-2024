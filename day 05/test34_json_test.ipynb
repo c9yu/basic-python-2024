{
 "cells": [
  {
   "cell_type": "markdown",
   "metadata": {},
   "source": [
    "## JSON input/output\n",
    "json 읽고 쓰기\n",
    "\n",
    "### json 포맷"
   ]
  },
  {
   "cell_type": "code",
   "execution_count": 2,
   "metadata": {},
   "outputs": [],
   "source": [
    "# file : test33_folium_again.ipynb\n",
    "# date : 20240202\n",
    "# desc : json 예제\n",
    "\n",
    "json_ex = '{\"name\" : \"성명건\", \"age\" : 47}' # json 포맷\n",
    "# \"\", ''를 같이 사용하는 이유는 하나로만 작성했을 때 발생하는 문법적 오류를 막기 위함이다.\n",
    "\n"
   ]
  },
  {
   "cell_type": "markdown",
   "metadata": {},
   "source": [
    "### JSON 읽기\n",
    "json 모듈 가져오기"
   ]
  },
  {
   "cell_type": "code",
   "execution_count": 3,
   "metadata": {},
   "outputs": [],
   "source": [
    "import json"
   ]
  },
  {
   "cell_type": "code",
   "execution_count": 9,
   "metadata": {},
   "outputs": [
    {
     "name": "stdout",
     "output_type": "stream",
     "text": [
      "{\n",
      "\t\"ionic\": {\n",
      "\t\t\"price\": 20000000,\n",
      "\t\t\"year\": \"2019\",\n",
      "\t\t\"auto\": true\n",
      "\t},\n",
      "\t\"genesis\": {\n",
      "\t\t\"price\": 80000000,\n",
      "\t\t\"year\": \"2022\",\n",
      "\t\t\"auto\": true\n",
      "\t},\n",
      "\t\"ferrari\": {\n",
      "\t\t\"price\": 150000000,\n",
      "\t\t\"year\": \"2020\",\n",
      "\t\t\"auto\": false\n",
      "\t}\n",
      "}\n"
     ]
    }
   ],
   "source": [
    "file = open('./car.json', mode = 'r', encoding='utf-8') # ./  하는 순간 내 폴더에 있는 파일이 다 나타남 (jupyter notebook 효과)\n",
    "                                                        # ../ 하면 부모 폴더에 있는 파일이 다 나타남\n",
    "data = json.load(file) # json 파일로 변환\n",
    "\n",
    "file.close()\n",
    "\n",
    "print(json.dumps(data,indent='\\t')) # 문자열로 변환, \\t : 문자열 사이에 tab 간격을 추가"
   ]
  },
  {
   "cell_type": "markdown",
   "metadata": {},
   "source": [
    "### JSON 사용\n",
    "- 파이썬의 딕셔너리와 사용방법이 동일"
   ]
  },
  {
   "cell_type": "code",
   "execution_count": 14,
   "metadata": {},
   "outputs": [
    {
     "data": {
      "text/plain": [
       "150000000"
      ]
     },
     "execution_count": 14,
     "metadata": {},
     "output_type": "execute_result"
    }
   ],
   "source": [
    "data ['ferrari']['price']"
   ]
  },
  {
   "cell_type": "code",
   "execution_count": 17,
   "metadata": {},
   "outputs": [
    {
     "data": {
      "text/plain": [
       "{'ionic': {'price': 20000000, 'year': '2019', 'auto': True},\n",
       " 'genesis': {'price': 80000000, 'year': '2022', 'auto': True},\n",
       " 'ferrari': {'price': 150000000, 'year': '2020', 'auto': True}}"
      ]
     },
     "execution_count": 17,
     "metadata": {},
     "output_type": "execute_result"
    }
   ],
   "source": [
    "data ['ferrari']['auto'] = True # 값을 변경 할 수 있다.\n",
    "data"
   ]
  },
  {
   "cell_type": "markdown",
   "metadata": {},
   "source": [
    "### JSON 쓰기"
   ]
  },
  {
   "cell_type": "code",
   "execution_count": 18,
   "metadata": {},
   "outputs": [
    {
     "data": {
      "text/plain": [
       "{'audi': {'price': 300000000, 'year': '2024', 'auto': True},\n",
       " 'porsche': {'price': 1000000000, 'year': '2017', 'auto': True}}"
      ]
     },
     "execution_count": 18,
     "metadata": {},
     "output_type": "execute_result"
    }
   ],
   "source": [
    "# json으로 만들 기본데이터 생성\n",
    "\n",
    "supercars = dict() # json은 딕셔너리랑 완전히 일치, 생성시 딕셔너리로 생성\n",
    "\n",
    "audi = dict() # 내부데이터도 딕셔너리\n",
    "audi['price'] = 300000000\n",
    "audi['year']  = '2024'\n",
    "audi['auto']  = True\n",
    "\n",
    "porsche = dict()\n",
    "porsche['price'] = 1000000000\n",
    "porsche['year']  = '2017'\n",
    "porsche['auto']  = True\n",
    "\n",
    "supercars['audi'] = audi\n",
    "supercars['porsche'] = porsche\n",
    "\n",
    "supercars # print(supercars)"
   ]
  },
  {
   "cell_type": "code",
   "execution_count": 21,
   "metadata": {},
   "outputs": [],
   "source": [
    "# json 파일 쓰기\n",
    "\n",
    "f = open('./supercars.json', mode = 'w', encoding= 'utf-8')\n",
    "json.dump(supercars, f, indent='\\t', ensure_ascii= True)\n",
    "\n",
    "f.close()"
   ]
  },
  {
   "cell_type": "code",
   "execution_count": 23,
   "metadata": {},
   "outputs": [],
   "source": [
    "# with -> 나는 close를 직접 하고싶지 않다. python이 대신 해줘\n",
    "with open('./supercars.json', mode = 'w', encoding= 'utf-8') as f2: # f2에서 파일을 닫아줌\n",
    "    json.dump(supercars, f2, indent='\\t', ensure_ascii= True)\n",
    "\n",
    "# 파일을 열면 무조건 닫아야 하는데 with를 사용하면 파일을 닫아줄 필요가 없다.\n",
    "# 즉, 코딩할 내용을 줄여준다."
   ]
  },
  {
   "cell_type": "code",
   "execution_count": 32,
   "metadata": {},
   "outputs": [
    {
     "name": "stdout",
     "output_type": "stream",
     "text": [
      "{\n",
      "\t\"audi\": {\n",
      "\t\t\"price\": 300000000,\n",
      "\t\t\"year\": \"2024\",\n",
      "\t\t\"auto\": true\n",
      "\t},\n",
      "\t\"porsche\": {\n",
      "\t\t\"price\": 1000000000,\n",
      "\t\t\"year\": \"2017\",\n",
      "\t\t\"auto\": true\n",
      "\t}\n",
      "}\n"
     ]
    }
   ],
   "source": [
    "# json 파일을 읽어줌 with문 사용\n",
    "with open('./supercars.json', mode = 'r', encoding='utf-8') as f3:\n",
    "    data = json.load(f3) # json 파일로 변환, # 값을 data에 할당\n",
    "\n",
    "\n",
    "print(json.dumps(data,indent='\\t')) # data를 문자열로 변환해 출력"
   ]
  }
 ],
 "metadata": {
  "kernelspec": {
   "display_name": "Python 3",
   "language": "python",
   "name": "python3"
  },
  "language_info": {
   "codemirror_mode": {
    "name": "ipython",
    "version": 3
   },
   "file_extension": ".py",
   "mimetype": "text/x-python",
   "name": "python",
   "nbconvert_exporter": "python",
   "pygments_lexer": "ipython3",
   "version": "3.11.5"
  }
 },
 "nbformat": 4,
 "nbformat_minor": 2
}
