{
 "cells": [
  {
   "cell_type": "markdown",
   "metadata": {},
   "source": [
    "# 주피터 노트북\n",
    "### 주피터 노트북 개요\n",
    "- 주피터 노트북(Jupyter Notebook)에 대한 학습\n",
    "\n",
    "### Jupyter Notebook 이란?\n",
    "- 2015년 주피터 재단에서 만든 오픈 소스 과학연구 목적 개발 플랫폼\n",
    "    - https://jupyter.org/"
   ]
  },
  {
   "cell_type": "markdown",
   "metadata": {},
   "source": [
    "## Jupyter Notebook 시작\n",
    "- 1. VS Code > 보기 > 명령 팔레트 : (Ctrl + Shift + P) \n",
    "- 2. Create : 새 주피터 노트북 클릭\n",
    "- 3. Untitled-1.ipynb를 원하는 위치에 저장\n",
    "- 4. 작성한 뒤 Shift + enter 를 통해 다음 셀로 이동"
   ]
  },
  {
   "cell_type": "markdown",
   "metadata": {},
   "source": [
    "## 주피터 노트북 셀\n",
    "- 코드 : python 등 소스코드 작성, 실행 공간\n",
    "- 마크다운 : 마크다운 설명 작성 공간"
   ]
  },
  {
   "cell_type": "code",
   "execution_count": 1,
   "metadata": {},
   "outputs": [
    {
     "name": "stdout",
     "output_type": "stream",
     "text": [
      "Hello, Jupyter!\n"
     ]
    }
   ],
   "source": [
    "print('Hello, Jupyter!')"
   ]
  },
  {
   "cell_type": "markdown",
   "metadata": {},
   "source": [
    "## 출력\n",
    "- Ctrl + F5 실행은 안함 (터미널 사용 X)\n",
    "- print() 함수는 옵션 (단, 주피터 노트북에서만 허용, .py 에서는 반드시 print()사용 )"
   ]
  },
  {
   "cell_type": "code",
   "execution_count": 3,
   "metadata": {},
   "outputs": [
    {
     "data": {
      "text/plain": [
       "'Hello World'"
      ]
     },
     "execution_count": 3,
     "metadata": {},
     "output_type": "execute_result"
    }
   ],
   "source": [
    "'Hello World' # print() 없이도 출력된 것을 확인 할 수 있다."
   ]
  },
  {
   "cell_type": "code",
   "execution_count": 5,
   "metadata": {},
   "outputs": [
    {
     "name": "stdout",
     "output_type": "stream",
     "text": [
      "10\n"
     ]
    },
    {
     "data": {
      "text/plain": [
       "10"
      ]
     },
     "execution_count": 5,
     "metadata": {},
     "output_type": "execute_result"
    }
   ],
   "source": [
    "a = 10\n",
    "print(a)\n",
    "a"
   ]
  },
  {
   "cell_type": "markdown",
   "metadata": {},
   "source": [
    "## 주피터 노트북 단축키\n",
    "- 셀 선택모드\n",
    "    - b : 아래에 새로운 셀 추가\n",
    "    - m : 마크다운 셀로 변경\n",
    "    - y : 코드 셀로 변경\n",
    "    - Shift + L : 셀에 라인번호 토글\n",
    "\n",
    "- 코드 입력모드\n",
    "    - Ctrl + Alt + Enter : 마크다운 셀은 종료, 코드 셀은 실행\n",
    "    - Shift + Enter : 현재셀 닫고, 아래 새 셀을 생성\n",
    "    - Ctrl + / : 주석 처리"
   ]
  },
  {
   "cell_type": "markdown",
   "metadata": {},
   "source": [
    "## 콘솔 실행\n",
    "```python\n",
    "!pip install|uninstall|lists 패키지명\n",
    "```"
   ]
  },
  {
   "cell_type": "code",
   "execution_count": 1,
   "metadata": {},
   "outputs": [
    {
     "name": "stdout",
     "output_type": "stream",
     "text": [
      "Collecting beautifulsoup4\n",
      "  Downloading beautifulsoup4-4.12.3-py3-none-any.whl.metadata (3.8 kB)\n",
      "Collecting soupsieve>1.2 (from beautifulsoup4)\n",
      "  Downloading soupsieve-2.5-py3-none-any.whl.metadata (4.7 kB)\n",
      "Downloading beautifulsoup4-4.12.3-py3-none-any.whl (147 kB)\n",
      "   ---------------------------------------- 0.0/147.9 kB ? eta -:--:--\n",
      "   -- ------------------------------------- 10.2/147.9 kB ? eta -:--:--\n",
      "   ---------------------------------------- 147.9/147.9 kB 2.9 MB/s eta 0:00:00\n",
      "Downloading soupsieve-2.5-py3-none-any.whl (36 kB)\n",
      "Installing collected packages: soupsieve, beautifulsoup4\n",
      "Successfully installed beautifulsoup4-4.12.3 soupsieve-2.5\n"
     ]
    }
   ],
   "source": [
    "# 파이썬 모듈 설치\n",
    "!pip install beautifulsoup4 # !를 통해 콘솔에서 실행한 것과 동일한 효과"
   ]
  },
  {
   "cell_type": "code",
   "execution_count": 3,
   "metadata": {},
   "outputs": [
    {
     "name": "stdout",
     "output_type": "stream",
     "text": [
      "Package            Version\n",
      "------------------ ----------\n",
      "asttokens          2.4.1\n",
      "beautifulsoup4     4.12.3\n",
      "certifi            2023.11.17\n",
      "charset-normalizer 3.3.2\n",
      "colorama           0.4.6\n",
      "comm               0.2.1\n",
      "debugpy            1.8.0\n",
      "decorator          5.1.1\n",
      "executing          2.0.1\n",
      "idna               3.6\n",
      "ipykernel          6.29.0\n",
      "ipython            8.21.0\n",
      "jedi               0.19.1\n",
      "jupyter_client     8.6.0\n",
      "jupyter_core       5.7.1\n",
      "matplotlib-inline  0.1.6\n",
      "nest-asyncio       1.6.0\n",
      "packaging          23.2\n",
      "parso              0.8.3\n",
      "pip                23.3.2\n",
      "platformdirs       4.2.0\n",
      "prompt-toolkit     3.0.43\n",
      "psutil             5.9.8\n",
      "pure-eval          0.2.2\n",
      "Pygments           2.17.2\n",
      "python-dateutil    2.8.2\n",
      "pywin32            306\n",
      "pyzmq              25.1.2\n",
      "requests           2.31.0\n",
      "setuptools         65.5.0\n",
      "six                1.16.0\n",
      "soupsieve          2.5\n",
      "stack-data         0.6.3\n",
      "tornado            6.4\n",
      "traitlets          5.14.1\n",
      "urllib3            2.2.0\n",
      "wcwidth            0.2.13\n"
     ]
    }
   ],
   "source": [
    "!pip list"
   ]
  },
  {
   "cell_type": "markdown",
   "metadata": {},
   "source": [
    "셀 왼쪽 하단의 초록색 네모로 성공 여부 확인"
   ]
  },
  {
   "cell_type": "markdown",
   "metadata": {},
   "source": [
    "## 주피터 노트북 작업 방법\n",
    "- 코드셀 분리\n",
    "    - 모듈 추가(import) : 한 곳에 모아 작성 \n",
    "    - 로직의 영역별로 코드셀 분리 작업\n",
    "\n",
    "## 파일경로 테스트\n",
    "```python\n",
    "import sys\n",
    "```"
   ]
  },
  {
   "cell_type": "code",
   "execution_count": 7,
   "metadata": {},
   "outputs": [],
   "source": [
    "# 모듈 추가\n",
    "import os\n",
    "import sys"
   ]
  },
  {
   "cell_type": "markdown",
   "metadata": {},
   "source": [
    "상대경로 확인"
   ]
  },
  {
   "cell_type": "code",
   "execution_count": 8,
   "metadata": {},
   "outputs": [
    {
     "data": {
      "text/plain": [
       "'c:\\\\DEV\\\\LANGS\\\\Python311\\\\python.exe'"
      ]
     },
     "execution_count": 8,
     "metadata": {},
     "output_type": "execute_result"
    }
   ],
   "source": [
    "# 사용중인 파이썬의 실제 경로\n",
    "sys.executable"
   ]
  },
  {
   "cell_type": "markdown",
   "metadata": {},
   "source": [
    "## 주피터 노트북의 특징\n",
    "### 단점, 해결법\n",
    "- 코드셀 하나에서 변수의 이름만 입력해 동시에 여러개를 출력하면 전부 다 출력되지 않는 문제가 발생"
   ]
  },
  {
   "cell_type": "code",
   "execution_count": 11,
   "metadata": {},
   "outputs": [
    {
     "data": {
      "text/plain": [
       "sys.flags(debug=0, inspect=0, interactive=0, optimize=0, dont_write_bytecode=0, no_user_site=0, no_site=0, ignore_environment=0, verbose=0, bytes_warning=0, quiet=0, hash_randomization=1, isolated=0, dev_mode=False, utf8_mode=0, warn_default_encoding=0, safe_path=False, int_max_str_digits=-1)"
      ]
     },
     "execution_count": 11,
     "metadata": {},
     "output_type": "execute_result"
    }
   ],
   "source": [
    "sys.executable\n",
    "sys.flags"
   ]
  },
  {
   "cell_type": "markdown",
   "metadata": {},
   "source": [
    "- 이를 해결하기 위해서 print()를 사용한다."
   ]
  },
  {
   "cell_type": "code",
   "execution_count": 12,
   "metadata": {},
   "outputs": [
    {
     "name": "stdout",
     "output_type": "stream",
     "text": [
      "c:\\DEV\\LANGS\\Python311\\python.exe\n",
      "sys.flags(debug=0, inspect=0, interactive=0, optimize=0, dont_write_bytecode=0, no_user_site=0, no_site=0, ignore_environment=0, verbose=0, bytes_warning=0, quiet=0, hash_randomization=1, isolated=0, dev_mode=False, utf8_mode=0, warn_default_encoding=0, safe_path=False, int_max_str_digits=-1)\n"
     ]
    }
   ],
   "source": [
    "print(sys.executable)\n",
    "print(sys.flags)"
   ]
  },
  {
   "cell_type": "markdown",
   "metadata": {},
   "source": [
    "### 디버깅\n",
    "- 중단점은 동일\n",
    "- 디버깅은 F5가 아닌 코드셀 왼쪽의 디버그셀 클릭 (Ctrl + Shift + Alt + Enter)\n",
    "- 디버깅 종료는 코드셀 왼쪽의 네모 아이콘 클릭"
   ]
  }
 ],
 "metadata": {
  "kernelspec": {
   "display_name": "Python 3",
   "language": "python",
   "name": "python3"
  },
  "language_info": {
   "codemirror_mode": {
    "name": "ipython",
    "version": 3
   },
   "file_extension": ".py",
   "mimetype": "text/x-python",
   "name": "python",
   "nbconvert_exporter": "python",
   "pygments_lexer": "ipython3",
   "version": "3.11.5"
  }
 },
 "nbformat": 4,
 "nbformat_minor": 2
}
