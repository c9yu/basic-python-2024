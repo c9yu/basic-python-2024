{
 "cells": [
  {
   "cell_type": "markdown",
   "metadata": {},
   "source": [
    "##  JSON Input/Output\n",
    "JSON 읽고 쓰기\n",
    "\n",
    "### JSON 포맷"
   ]
  },
  {
   "cell_type": "code",
   "execution_count": null,
   "metadata": {},
   "outputs": [],
   "source": [
    "# file : test34_json_test.ipynb\n",
    "# desc : JSON 예제\n",
    "json_ex = '{ \"name\" : \"고길동\", \"age\" : 43}' # \"{내용}\" 이렇게 하면 오류"
   ]
  },
  {
   "cell_type": "markdown",
   "metadata": {},
   "source": [
    "### JSON 읽기\n",
    "\n",
    "json 모듈 가져오기"
   ]
  },
  {
   "cell_type": "code",
   "execution_count": 1,
   "metadata": {},
   "outputs": [],
   "source": [
    "import json"
   ]
  },
  {
   "cell_type": "code",
   "execution_count": 6,
   "metadata": {},
   "outputs": [
    {
     "name": "stdout",
     "output_type": "stream",
     "text": [
      "{\n",
      "\t\"ionic\": {\n",
      "\t\t\"price\": 200000000,\n",
      "\t\t\"year\": \"2024\",\n",
      "\t\t\"auto\": true\n",
      "\t},\n",
      "\t\"genesis\": {\n",
      "\t\t\"price\": 800000000,\n",
      "\t\t\"year\": \"2022\",\n",
      "\t\t\"auto\": true\n",
      "\t},\n",
      "\t\"ferrari\": {\n",
      "\t\t\"price\": 1500000000,\n",
      "\t\t\"year\": \"2020\",\n",
      "\t\t\"auto\": false\n",
      "\t}\n",
      "}\n"
     ]
    }
   ],
   "source": [
    "file = open('./car.json', mode='r', encoding='utf-8') # 최초에는 파일IO 사용 # JSON은 open('./') 하면 해당 폴더의 파일들을 고를 수 있다\n",
    "data = json.load(file) # JSON 파일로 변환\n",
    "file.close()\n",
    "\n",
    "print(json.dumps(data, indent='\\t')) # JSON화 # 문자열로 변경 # \\t은 문자열 사이에 tab 간격을 줄 때 사용"
   ]
  },
  {
   "cell_type": "markdown",
   "metadata": {},
   "source": [
    "### JSON 사용\n",
    "Python의 Dictionary와 사용방법이 동일"
   ]
  },
  {
   "cell_type": "code",
   "execution_count": 8,
   "metadata": {},
   "outputs": [
    {
     "data": {
      "text/plain": [
       "1500000000"
      ]
     },
     "execution_count": 8,
     "metadata": {},
     "output_type": "execute_result"
    }
   ],
   "source": [
    "data['ferrari']['price']"
   ]
  },
  {
   "cell_type": "code",
   "execution_count": 9,
   "metadata": {},
   "outputs": [],
   "source": [
    "data['ferrari']['auto'] = True # auto 값을 False -> True로 바꿈"
   ]
  },
  {
   "cell_type": "code",
   "execution_count": 10,
   "metadata": {},
   "outputs": [
    {
     "data": {
      "text/plain": [
       "{'ionic': {'price': 200000000, 'year': '2024', 'auto': True},\n",
       " 'genesis': {'price': 800000000, 'year': '2022', 'auto': True},\n",
       " 'ferrari': {'price': 1500000000, 'year': '2020', 'auto': True}}"
      ]
     },
     "execution_count": 10,
     "metadata": {},
     "output_type": "execute_result"
    }
   ],
   "source": [
    "data"
   ]
  },
  {
   "cell_type": "markdown",
   "metadata": {},
   "source": [
    "### JSON 쓰기\n"
   ]
  },
  {
   "cell_type": "code",
   "execution_count": 11,
   "metadata": {},
   "outputs": [
    {
     "data": {
      "text/plain": [
       "{'audi': {'price': 300000000, 'year': '2023', 'auto': True},\n",
       " 'porsche': {'price': 1000000000, 'yaer': '2018', 'auto': True}}"
      ]
     },
     "execution_count": 11,
     "metadata": {},
     "output_type": "execute_result"
    }
   ],
   "source": [
    "# JSON으로 만들 기본데이터 생성\n",
    "supercars = dict() # JSON은 딕셔너리랑 완전히 일치, 생성시도 딕셔너리로 생성\n",
    "\n",
    "audi = dict() # 내부데이터도 딕셔너리\n",
    "audi['price'] = 300000000\n",
    "audi['year'] = '2023'\n",
    "audi['auto'] = True\n",
    "\n",
    "porsche = dict()\n",
    "porsche['price'] = 1000000000\n",
    "porsche['year'] = '2018'\n",
    "porsche['auto'] = True\n",
    "\n",
    "supercars['audi'] = audi\n",
    "supercars['porsche'] = porsche\n",
    "\n",
    "supercars"
   ]
  },
  {
   "cell_type": "code",
   "execution_count": 12,
   "metadata": {},
   "outputs": [],
   "source": [
    "## JSON 파일 쓰기\n",
    "f = open('./supercars.json', mode='w', encoding='utf-8')\n",
    "json.dump(supercars, f, indent='\\t', ensure_ascii=True)\n",
    "f.close()"
   ]
  },
  {
   "cell_type": "code",
   "execution_count": 19,
   "metadata": {},
   "outputs": [],
   "source": [
    "## with -> 나는 close를 내가 하고 싶지 않다. 니(Python)가 해라\n",
    "# with를 사용하면 알아서 파이썬이 닫아준다\n",
    "with open('./supercars.json', mode='w', encoding='utf-8') as f2:\n",
    "    json.dump(supercars, f2, indent='\\t', ensure_ascii=True)\n"
   ]
  },
  {
   "cell_type": "code",
   "execution_count": 32,
   "metadata": {},
   "outputs": [
    {
     "name": "stdout",
     "output_type": "stream",
     "text": [
      "{\n",
      "\t\"audi\": {\n",
      "\t\t\"price\": 300000000,\n",
      "\t\t\"year\": \"2023\",\n",
      "\t\t\"auto\": true\n",
      "\t},\n",
      "\t\"porsche\": {\n",
      "\t\t\"price\": 1000000000,\n",
      "\t\t\"year\": \"2018\",\n",
      "\t\t\"auto\": true\n",
      "\t}\n",
      "}\n"
     ]
    }
   ],
   "source": [
    "## JSON 파일을 읽어옴 (with문 사용)\n",
    "with open('./supercars.json', mode='r', encoding='utf-8') as f3:\n",
    "    data = json.load(f3)\n",
    "    print(json.dumps(data, indent='\\t'))"
   ]
  }
 ],
 "metadata": {
  "kernelspec": {
   "display_name": "Python 3",
   "language": "python",
   "name": "python3"
  },
  "language_info": {
   "codemirror_mode": {
    "name": "ipython",
    "version": 3
   },
   "file_extension": ".py",
   "mimetype": "text/x-python",
   "name": "python",
   "nbconvert_exporter": "python",
   "pygments_lexer": "ipython3",
   "version": "3.11.5"
  }
 },
 "nbformat": 4,
 "nbformat_minor": 2
}
